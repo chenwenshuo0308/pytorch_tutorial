{
 "cells": [
  {
   "cell_type": "markdown",
   "metadata": {
    "pycharm": {
     "name": "#%% md\n"
    }
   },
   "source": [
    "### Mnist分类任务：\n",
    "\n",
    "- 网络基本构建与训练方法，常用函数解析\n",
    "\n",
    "- torch.nn.functional模块\n",
    "\n",
    "- nn.Module模块\n"
   ]
  },
  {
   "cell_type": "markdown",
   "metadata": {
    "pycharm": {
     "name": "#%% md\n"
    }
   },
   "source": [
    "### 读取Mnist数据集\n",
    "- 会自动进行下载"
   ]
  },
  {
   "cell_type": "code",
   "execution_count": 3,
   "metadata": {
    "collapsed": true,
    "pycharm": {
     "name": "#%%\n"
    }
   },
   "outputs": [],
   "source": [
    "%matplotlib inline"
   ]
  },
  {
   "cell_type": "code",
   "execution_count": 4,
   "metadata": {
    "collapsed": true,
    "pycharm": {
     "name": "#%%\n"
    }
   },
   "outputs": [],
   "source": [
    "from pathlib import Path\n",
    "import requests\n",
    "\n",
    "DATA_PATH = Path(\"data\")\n",
    "PATH = DATA_PATH / \"mnist\"\n",
    "\n",
    "PATH.mkdir(parents=True, exist_ok=True)\n",
    "\n",
    "URL = \"http://deeplearning.net/data/mnist/\"\n",
    "FILENAME = \"mnist.pkl.gz\"\n",
    "\n",
    "if not (PATH / FILENAME).exists():\n",
    "        content = requests.get(URL + FILENAME).content\n",
    "        (PATH / FILENAME).open(\"wb\").write(content)"
   ]
  },
  {
   "cell_type": "code",
   "execution_count": 5,
   "metadata": {
    "collapsed": true,
    "pycharm": {
     "name": "#%%\n"
    }
   },
   "outputs": [],
   "source": [
    "import pickle\n",
    "import gzip\n",
    "\n",
    "with gzip.open((PATH / FILENAME).as_posix(), \"rb\") as f:\n",
    "        ((x_train, y_train), (x_valid, y_valid), _) = pickle.load(f, encoding=\"latin-1\")"
   ]
  },
  {
   "cell_type": "markdown",
   "metadata": {
    "pycharm": {
     "name": "#%% md\n"
    }
   },
   "source": [
    "784是mnist数据集每个样本的像素点个数"
   ]
  },
  {
   "cell_type": "code",
   "execution_count": 10,
   "metadata": {
    "pycharm": {
     "name": "#%%\n"
    }
   },
   "outputs": [
    {
     "name": "stdout",
     "output_type": "stream",
     "text": [
      "(50000, 784)\n",
      "(50000,)\n"
     ]
    },
    {
     "data": {
      "text/plain": "<Figure size 432x288 with 1 Axes>",
      "image/png": "[encoded data removed]"
     },
     "metadata": {
      "needs_background": "light"
     },
     "output_type": "display_data"
    }
   ],
   "source": [
    "from matplotlib import pyplot\n",
    "import numpy as np\n",
    "\n",
    "pyplot.imshow(x_train[1].reshape((28, 28)), cmap=\"gray\")\n",
    "print(x_train.shape)\n",
    "print(y_train.shape)\n"
   ]
  },
  {
   "cell_type": "markdown",
   "metadata": {
    "pycharm": {
     "name": "#%% md\n"
    }
   },
   "source": [
    "<img src=\"./img/4.png\" alt=\"FAO\" width=\"790\">"
   ]
  },
  {
   "cell_type": "markdown",
   "metadata": {
    "pycharm": {
     "name": "#%% md\n"
    }
   },
   "source": [
    "<img src=\"./img/5.png\" alt=\"FAO\" width=\"790\">"
   ]
  },
  {
   "cell_type": "code",
   "execution_count": 13,
   "outputs": [
    {
     "name": "stdout",
     "output_type": "stream",
     "text": [
      "5\n"
     ]
    }
   ],
   "source": [
    "print(y_train[0])"
   ],
   "metadata": {
    "collapsed": false,
    "pycharm": {
     "name": "#%%\n"
    }
   }
  },
  {
   "cell_type": "code",
   "execution_count": 14,
   "metadata": {
    "pycharm": {
     "name": "#%%\n"
    }
   },
   "outputs": [
    {
     "name": "stdout",
     "output_type": "stream",
     "text": [
      "tensor([[0., 0., 0.,  ..., 0., 0., 0.],\n",
      "        [0., 0., 0.,  ..., 0., 0., 0.],\n",
      "        [0., 0., 0.,  ..., 0., 0., 0.],\n",
      "        ...,\n",
      "        [0., 0., 0.,  ..., 0., 0., 0.],\n",
      "        [0., 0., 0.,  ..., 0., 0., 0.],\n",
      "        [0., 0., 0.,  ..., 0., 0., 0.]]) tensor([5, 0, 4,  ..., 8, 4, 8])\n",
      "torch.Size([50000, 784])\n",
      "tensor(0) tensor(9)\n"
     ]
    }
   ],
   "source": [
    "import torch\n",
    "\n",
    "x_train, y_train, x_valid, y_valid = map(\n",
    "    torch.tensor, (x_train, y_train, x_valid, y_valid)\n",
    ")\n",
    "n, c = x_train.shape\n",
    "x_train, x_train.shape, y_train.min(), y_train.max()\n",
    "print(x_train, y_train)\n",
    "print(x_train.shape)\n",
    "print(y_train.min(), y_train.max())"
   ]
  },
  {
   "cell_type": "markdown",
   "source": [
    "注意数据需转换成tensor才能参与后续建模训练\n"
   ],
   "metadata": {
    "collapsed": false,
    "pycharm": {
     "name": "#%% md\n"
    }
   }
  },
  {
   "cell_type": "markdown",
   "metadata": {
    "pycharm": {
     "name": "#%% md\n"
    }
   },
   "source": [
    "### torch.nn.functional 很多层和函数在这里都会见到\n",
    "\n",
    "torch.nn.functional中有很多功能，后续会常用的。那什么时候使用nn.Module，什么时候使用nn.functional呢？一般情况下，如果模型有可学习的参数，最好用nn.Module，其他情况nn.functional相对更简单一些"
   ]
  },
  {
   "cell_type": "code",
   "execution_count": 15,
   "metadata": {
    "collapsed": true,
    "pycharm": {
     "name": "#%%\n"
    }
   },
   "outputs": [],
   "source": [
    "import torch.nn.functional as F\n",
    "\n",
    "loss_func = F.cross_entropy\n",
    "\n",
    "def model(xb):\n",
    "    return xb.mm(weights) + bias"
   ]
  },
  {
   "cell_type": "code",
   "execution_count": 17,
   "metadata": {
    "pycharm": {
     "name": "#%%\n"
    }
   },
   "outputs": [
    {
     "name": "stdout",
     "output_type": "stream",
     "text": [
      "tensor(17.4220, grad_fn=<NllLossBackward0>)\n"
     ]
    }
   ],
   "source": [
    "bachtsize = 64\n",
    "xbatch = x_train[0:bachtsize]  # a mini-batch from x\n",
    "ybatch = y_train[0:bachtsize]\n",
    "weights = torch.randn([784, 10], dtype = torch.float,  requires_grad = True) \n",
    "bachtsize = 64\n",
    "bias = torch.zeros(10, requires_grad=True)\n",
    "\n",
    "print(loss_func(model(xbatch), ybatch))"
   ]
  },
  {
   "cell_type": "markdown",
   "metadata": {
    "pycharm": {
     "name": "#%% md\n"
    }
   },
   "source": [
    "### 创建一个model来更简化代码"
   ]
  },
  {
   "cell_type": "markdown",
   "metadata": {
    "pycharm": {
     "name": "#%% md\n"
    }
   },
   "source": [
    "- 必须继承nn.Module且在其构造函数中需调用nn.Module的构造函数\n",
    "- 无需写反向传播函数，nn.Module能够利用autograd自动实现反向传播\n",
    "- Module中的可学习参数可以通过named_parameters()或者parameters()返回迭代器"
   ]
  },
  {
   "cell_type": "code",
   "execution_count": 20,
   "metadata": {
    "collapsed": true,
    "pycharm": {
     "name": "#%%\n"
    }
   },
   "outputs": [],
   "source": [
    "from torch import nn\n",
    "\n",
    "class Mnist_NN(nn.Module):\n",
    "    def __init__(self):\n",
    "        super().__init__()#必须继承\n",
    "        self.hidden1 = nn.Linear(784, 128)#第一层全连接\n",
    "        self.hidden2 = nn.Linear(128, 256)#第二层全连接\n",
    "        self.out  = nn.Linear(256, 10)\n",
    "\n",
    "    def forward(self, x):\n",
    "        x = F.relu(self.hidden1(x))#activite function\n",
    "        x = F.relu(self.hidden2(x))\n",
    "        x = self.out(x)#前向传播\n",
    "        return x\n",
    "        "
   ]
  },
  {
   "cell_type": "code",
   "execution_count": 21,
   "metadata": {
    "pycharm": {
     "name": "#%%\n"
    }
   },
   "outputs": [
    {
     "name": "stdout",
     "output_type": "stream",
     "text": [
      "Mnist_NN(\n",
      "  (hidden1): Linear(in_features=784, out_features=128, bias=True)\n",
      "  (hidden2): Linear(in_features=128, out_features=256, bias=True)\n",
      "  (out): Linear(in_features=256, out_features=10, bias=True)\n",
      ")\n"
     ]
    }
   ],
   "source": [
    "net = Mnist_NN()\n",
    "print(net)\n"
   ]
  },
  {
   "cell_type": "markdown",
   "metadata": {
    "pycharm": {
     "name": "#%% md\n"
    }
   },
   "source": [
    "可以打印我们定义好名字里的权重和偏置项"
   ]
  },
  {
   "cell_type": "code",
   "execution_count": 22,
   "metadata": {
    "pycharm": {
     "name": "#%%\n"
    }
   },
   "outputs": [
    {
     "name": "stdout",
     "output_type": "stream",
     "text": [
      "hidden1.weight Parameter containing:\n",
      "tensor([[-0.0270, -0.0114,  0.0330,  ..., -0.0097,  0.0135, -0.0034],\n",
      "        [-0.0043,  0.0081,  0.0337,  ...,  0.0335, -0.0332,  0.0086],\n",
      "        [-0.0232, -0.0186, -0.0293,  ..., -0.0015,  0.0310, -0.0310],\n",
      "        ...,\n",
      "        [ 0.0198, -0.0320,  0.0134,  ...,  0.0112, -0.0227,  0.0063],\n",
      "        [ 0.0343,  0.0353,  0.0147,  ...,  0.0212,  0.0354,  0.0266],\n",
      "        [-0.0310,  0.0013, -0.0218,  ...,  0.0027,  0.0345, -0.0357]],\n",
      "       requires_grad=True) torch.Size([128, 784])\n",
      "hidden1.bias Parameter containing:\n",
      "tensor([ 0.0284,  0.0046, -0.0155, -0.0193, -0.0006, -0.0335, -0.0349,  0.0304,\n",
      "        -0.0149,  0.0110, -0.0048, -0.0290, -0.0208,  0.0098, -0.0233, -0.0340,\n",
      "         0.0109, -0.0010,  0.0346,  0.0220,  0.0292, -0.0052,  0.0197,  0.0333,\n",
      "         0.0327,  0.0050,  0.0346, -0.0099, -0.0153, -0.0127,  0.0322,  0.0278,\n",
      "         0.0350,  0.0206, -0.0329, -0.0345,  0.0090,  0.0174,  0.0049, -0.0194,\n",
      "        -0.0253,  0.0116, -0.0350, -0.0119, -0.0353, -0.0124, -0.0072,  0.0309,\n",
      "        -0.0334, -0.0269,  0.0356,  0.0158,  0.0119, -0.0097,  0.0048,  0.0243,\n",
      "        -0.0064, -0.0340, -0.0292,  0.0339, -0.0266, -0.0340, -0.0122,  0.0285,\n",
      "         0.0136,  0.0025, -0.0216,  0.0280,  0.0143, -0.0244, -0.0089, -0.0322,\n",
      "         0.0248,  0.0080, -0.0349,  0.0167, -0.0069, -0.0318, -0.0195, -0.0081,\n",
      "        -0.0313, -0.0209, -0.0014,  0.0239, -0.0264,  0.0186, -0.0194, -0.0002,\n",
      "        -0.0203, -0.0113,  0.0238,  0.0207,  0.0037,  0.0030, -0.0193, -0.0262,\n",
      "        -0.0171,  0.0240, -0.0150,  0.0252, -0.0014, -0.0275,  0.0017,  0.0053,\n",
      "         0.0082, -0.0150,  0.0032, -0.0228,  0.0305,  0.0208,  0.0039, -0.0266,\n",
      "         0.0155, -0.0165,  0.0045, -0.0079, -0.0036, -0.0093,  0.0259,  0.0030,\n",
      "         0.0139, -0.0148, -0.0328, -0.0149,  0.0028,  0.0165,  0.0304, -0.0252],\n",
      "       requires_grad=True) torch.Size([128])\n",
      "hidden2.weight Parameter containing:\n",
      "tensor([[-0.0712,  0.0207, -0.0245,  ...,  0.0603, -0.0397, -0.0324],\n",
      "        [ 0.0431,  0.0475, -0.0062,  ...,  0.0391, -0.0414, -0.0110],\n",
      "        [-0.0466, -0.0220, -0.0295,  ..., -0.0502, -0.0262, -0.0148],\n",
      "        ...,\n",
      "        [-0.0817, -0.0082,  0.0344,  ..., -0.0432,  0.0394,  0.0224],\n",
      "        [ 0.0237, -0.0178, -0.0835,  ...,  0.0696, -0.0157,  0.0360],\n",
      "        [ 0.0097,  0.0007, -0.0453,  ..., -0.0529,  0.0724, -0.0790]],\n",
      "       requires_grad=True) torch.Size([256, 128])\n",
      "hidden2.bias Parameter containing:\n",
      "tensor([-1.7656e-02,  5.7797e-03, -5.3015e-02, -2.0959e-02, -6.4623e-02,\n",
      "         3.2273e-02, -1.2415e-02, -4.0203e-03,  5.5035e-02,  3.9944e-02,\n",
      "         1.9233e-03,  5.9765e-02,  8.7844e-02, -5.0670e-02, -6.7407e-02,\n",
      "         1.4458e-02,  6.5480e-02, -6.9119e-02, -3.0715e-02,  6.9049e-02,\n",
      "        -5.8458e-02, -1.6219e-02,  1.7899e-02,  6.9229e-02,  2.7151e-02,\n",
      "        -7.7441e-02, -3.3022e-02,  2.7848e-02, -8.1548e-02,  2.6554e-02,\n",
      "        -8.0728e-02,  1.9816e-02, -8.1571e-02, -2.5853e-02,  5.5964e-02,\n",
      "         7.5838e-04,  2.4463e-03,  9.2334e-04,  2.8866e-03,  7.3578e-02,\n",
      "        -8.2846e-04, -2.6985e-02, -6.6883e-03, -2.9939e-02,  7.7534e-02,\n",
      "        -6.0760e-02, -8.4430e-02, -2.7281e-02,  1.0280e-02,  1.3309e-02,\n",
      "         6.6449e-02,  8.7588e-02,  2.5618e-02, -5.1908e-02, -4.5480e-02,\n",
      "        -1.9448e-02, -3.6484e-02, -6.5442e-03, -4.7126e-02,  9.0897e-03,\n",
      "        -7.3003e-02, -8.9049e-05, -5.6049e-02, -9.1866e-03, -8.0556e-02,\n",
      "         8.4374e-02,  3.3804e-02, -2.2889e-03,  7.5660e-02, -7.5652e-02,\n",
      "        -6.8604e-02, -8.0043e-02,  5.2903e-02,  3.2579e-02, -2.9472e-02,\n",
      "        -5.1954e-03, -5.1054e-02, -7.5386e-02, -4.8947e-02,  2.5411e-02,\n",
      "        -1.7059e-02,  8.2195e-02, -2.9432e-02, -7.4707e-03, -7.5348e-02,\n",
      "        -1.4603e-02,  1.5676e-02,  8.3731e-02,  2.6011e-02, -2.3336e-02,\n",
      "        -6.1465e-02, -4.8931e-02,  5.9012e-02,  5.7452e-02, -1.8169e-03,\n",
      "         5.0857e-02,  3.6509e-02,  8.5548e-02,  1.6459e-03,  3.2110e-02,\n",
      "        -7.6056e-02, -7.7746e-02, -3.1098e-02,  7.9646e-02, -3.7974e-02,\n",
      "        -4.8897e-04, -1.4746e-03, -1.8067e-02, -1.7113e-02,  2.1207e-02,\n",
      "         4.9499e-04, -2.0154e-02, -1.1139e-02,  5.2934e-02, -6.7721e-02,\n",
      "         8.7203e-02,  7.8170e-02, -3.3226e-03,  3.8047e-02, -7.0043e-02,\n",
      "         6.9255e-02, -2.0957e-02, -3.1374e-02, -5.9179e-03,  1.1401e-02,\n",
      "        -3.6977e-02, -3.8920e-02, -7.6350e-02, -8.1077e-03,  6.9283e-02,\n",
      "        -3.1102e-02,  9.4741e-03,  5.8720e-02,  7.9756e-02,  6.7403e-02,\n",
      "        -5.8646e-02, -4.9881e-02, -3.8511e-02, -2.2472e-02,  9.9401e-03,\n",
      "        -5.5297e-02, -3.4940e-02, -9.4933e-03, -2.8252e-02,  5.6709e-03,\n",
      "        -8.0695e-02,  1.4946e-02, -1.6165e-02, -6.2631e-02, -3.1618e-03,\n",
      "        -2.9439e-02,  3.4729e-02,  5.6680e-02, -8.6408e-02,  3.7836e-02,\n",
      "         8.0087e-02,  2.9690e-02,  4.6863e-02, -4.2956e-03,  2.9698e-03,\n",
      "         6.8689e-02, -5.3391e-02, -5.7214e-02,  2.1006e-02, -6.6033e-02,\n",
      "         7.9673e-02,  7.0274e-02,  7.9446e-02,  7.9727e-02, -4.6324e-02,\n",
      "         4.1074e-02,  6.8438e-03, -1.2814e-02,  7.9807e-02, -8.4618e-02,\n",
      "        -8.5886e-04,  8.6297e-02, -5.2396e-02, -2.2572e-03,  6.1777e-03,\n",
      "        -5.5275e-02,  6.8685e-02,  4.8214e-03,  8.0582e-02,  7.7430e-02,\n",
      "         3.2571e-02, -1.8136e-02,  6.4426e-03,  4.1273e-02,  3.6697e-04,\n",
      "        -7.1314e-02,  6.5731e-02, -5.6977e-02,  8.3699e-02, -2.2846e-02,\n",
      "        -5.5825e-02, -8.3975e-02,  2.6615e-02,  7.5585e-02, -6.7674e-02,\n",
      "        -4.2685e-02,  7.7784e-02, -1.8214e-02,  5.4906e-02,  3.0586e-02,\n",
      "        -5.5742e-02,  6.4488e-02, -6.7343e-02, -1.3959e-02, -2.5825e-02,\n",
      "         1.1809e-02, -1.1947e-02, -7.6903e-02,  3.7867e-02,  3.3754e-02,\n",
      "        -1.7698e-03, -5.2704e-02, -4.4835e-02, -1.4448e-02, -5.4921e-02,\n",
      "         6.2294e-02, -8.7453e-02,  8.1019e-02, -4.8307e-02, -3.3541e-02,\n",
      "        -3.4832e-02, -4.6598e-02,  1.9804e-02,  1.4001e-03,  1.6771e-02,\n",
      "        -4.5681e-02,  5.8659e-02,  7.2312e-02, -1.7748e-02, -1.1791e-02,\n",
      "        -6.4075e-02, -5.6492e-02, -8.2953e-02,  5.0089e-02,  6.8552e-02,\n",
      "         4.6637e-02,  8.6005e-02,  8.5854e-02, -2.4361e-02, -3.2558e-02,\n",
      "        -7.0451e-02, -8.3053e-02,  3.2567e-03,  6.2717e-02, -3.3468e-03,\n",
      "        -2.1634e-02, -5.4989e-02,  5.6263e-02, -7.9133e-02,  6.0190e-02,\n",
      "         4.9440e-02], requires_grad=True) torch.Size([256])\n",
      "out.weight Parameter containing:\n",
      "tensor([[-0.0558, -0.0533,  0.0145,  ..., -0.0437,  0.0261, -0.0164],\n",
      "        [-0.0426,  0.0559, -0.0579,  ..., -0.0276, -0.0340,  0.0047],\n",
      "        [ 0.0078,  0.0295,  0.0598,  ..., -0.0267, -0.0359,  0.0465],\n",
      "        ...,\n",
      "        [-0.0612,  0.0511, -0.0346,  ..., -0.0424, -0.0319, -0.0525],\n",
      "        [ 0.0483,  0.0488,  0.0618,  ..., -0.0262,  0.0311, -0.0300],\n",
      "        [-0.0594,  0.0370,  0.0004,  ..., -0.0068,  0.0048,  0.0250]],\n",
      "       requires_grad=True) torch.Size([10, 256])\n",
      "out.bias Parameter containing:\n",
      "tensor([ 0.0536,  0.0249,  0.0033, -0.0515,  0.0515, -0.0592,  0.0276, -0.0542,\n",
      "         0.0481, -0.0305], requires_grad=True) torch.Size([10])\n"
     ]
    }
   ],
   "source": [
    "for name, parameter in net.named_parameters():\n",
    "    print(name, parameter,parameter.size())"
   ]
  },
  {
   "cell_type": "markdown",
   "metadata": {
    "pycharm": {
     "name": "#%% md\n"
    }
   },
   "source": [
    "### 使用TensorDataset和DataLoader来简化"
   ]
  },
  {
   "cell_type": "code",
   "execution_count": 24,
   "metadata": {
    "collapsed": true,
    "pycharm": {
     "name": "#%%\n"
    }
   },
   "outputs": [],
   "source": [
    "from torch.utils.data import TensorDataset\n",
    "from torch.utils.data import DataLoader\n",
    "\n",
    "train_ds = TensorDataset(x_train, y_train)\n",
    "train_dl = DataLoader(train_ds, batch_size=bachtsize, shuffle=True)\n",
    "\n",
    "valid_ds = TensorDataset(x_valid, y_valid)\n",
    "valid_dl = DataLoader(valid_ds, batch_size=bachtsize * 2)"
   ]
  },
  {
   "cell_type": "code",
   "execution_count": 26,
   "metadata": {
    "collapsed": true,
    "pycharm": {
     "name": "#%%\n"
    }
   },
   "outputs": [],
   "source": [
    "def get_data(train_ds, valid_ds, bs):\n",
    "    return (\n",
    "        DataLoader(train_ds, batch_size=bs, shuffle=True),\n",
    "        DataLoader(valid_ds, batch_size=bs * 2),\n",
    "    )"
   ]
  },
  {
   "cell_type": "markdown",
   "metadata": {
    "pycharm": {
     "name": "#%% md\n"
    }
   },
   "source": [
    "- 一般在训练模型时加上model.train()，这样会正常使用Batch Normalization和 Dropout\n",
    "- 测试的时候一般选择model.eval()，这样就不会使用Batch Normalization和 Dropout"
   ]
  },
  {
   "cell_type": "code",
   "execution_count": 27,
   "metadata": {
    "collapsed": true,
    "pycharm": {
     "name": "#%%\n"
    }
   },
   "outputs": [],
   "source": [
    "import numpy as np\n",
    "\n",
    "def fit(steps, model, loss_func, opt, train_dl, valid_dl):\n",
    "    for step in range(steps):\n",
    "        model.train()\n",
    "        for xb, yb in train_dl:\n",
    "            loss_batch(model, loss_func, xb, yb, opt)\n",
    "\n",
    "        model.eval()\n",
    "        with torch.no_grad():\n",
    "            losses, nums = zip(\n",
    "                *[loss_batch(model, loss_func, xb, yb) for xb, yb in valid_dl]\n",
    "            )\n",
    "        val_loss = np.sum(np.multiply(losses, nums)) / np.sum(nums)\n",
    "        print('当前step:'+str(step), '验证集损失：'+str(val_loss))"
   ]
  },
  {
   "cell_type": "code",
   "execution_count": 28,
   "metadata": {
    "collapsed": true,
    "pycharm": {
     "name": "#%%\n"
    }
   },
   "outputs": [],
   "source": [
    "from torch import optim\n",
    "def get_model():\n",
    "    model = Mnist_NN()\n",
    "    return model, optim.SGD(model.parameters(), lr=0.001)"
   ]
  },
  {
   "cell_type": "code",
   "execution_count": 29,
   "metadata": {
    "collapsed": true,
    "pycharm": {
     "name": "#%%\n"
    }
   },
   "outputs": [],
   "source": [
    "def loss_batch(model, loss_func, xb, yb, opt=None):\n",
    "    loss = loss_func(model(xb), yb)\n",
    "\n",
    "    if opt is not None:\n",
    "        loss.backward()\n",
    "        opt.step()\n",
    "        opt.zero_grad()\n",
    "\n",
    "    return loss.item(), len(xb)"
   ]
  },
  {
   "cell_type": "markdown",
   "metadata": {
    "pycharm": {
     "name": "#%% md\n"
    }
   },
   "source": [
    "### 三行搞定！"
   ]
  },
  {
   "cell_type": "code",
   "execution_count": 30,
   "metadata": {
    "pycharm": {
     "name": "#%%\n"
    }
   },
   "outputs": [
    {
     "name": "stdout",
     "output_type": "stream",
     "text": [
      "当前step:0 验证集损失：2.2755066497802736\n",
      "当前step:1 验证集损失：2.236747075653076\n",
      "当前step:2 验证集损失：2.1745321002960205\n",
      "当前step:3 验证集损失：2.074860977554321\n",
      "当前step:4 验证集损失：1.926665793991089\n",
      "当前step:5 验证集损失：1.725377098464966\n",
      "当前step:6 验证集损失：1.481831167411804\n",
      "当前step:7 验证集损失：1.2415849466323852\n",
      "当前step:8 验证集损失：1.0480861883163453\n",
      "当前step:9 验证集损失：0.904590622138977\n",
      "当前step:10 验证集损失：0.7974385078430176\n",
      "当前step:11 验证集损失：0.715428253364563\n",
      "当前step:12 验证集损失：0.6516486908912659\n",
      "当前step:13 验证集损失：0.6005941713333129\n",
      "当前step:14 验证集损失：0.5599995349884033\n",
      "当前step:15 验证集损失：0.5267216742992401\n",
      "当前step:16 验证集损失：0.49877067070007325\n",
      "当前step:17 验证集损失：0.47561648926734923\n",
      "当前step:18 验证集损失：0.4566943848133087\n",
      "当前step:19 验证集损失：0.43953912076950075\n",
      "当前step:20 验证集损失：0.4248025695323944\n",
      "当前step:21 验证集损失：0.411917547416687\n",
      "当前step:22 验证集损失：0.40115597727298735\n",
      "当前step:23 验证集损失：0.3914979451417923\n",
      "当前step:24 验证集损失：0.3827971574068069\n"
     ]
    }
   ],
   "source": [
    "train_dl, valid_dl = get_data(train_ds, valid_ds, bachtsize)\n",
    "model, opt = get_model()\n",
    "fit(25, model, loss_func, opt, train_dl, valid_dl)"
   ]
  },
  {
   "cell_type": "code",
   "execution_count": 38,
   "metadata": {
    "collapsed": true,
    "pycharm": {
     "name": "#%%\n"
    }
   },
   "outputs": [
    {
     "name": "stdout",
     "output_type": "stream",
     "text": [
      "tensor(0)\n"
     ]
    }
   ],
   "source": [
    "model(x_train[1])\n",
    "print(y_train[1])"
   ]
  },
  {
   "cell_type": "code",
   "execution_count": null,
   "outputs": [],
   "source": [],
   "metadata": {
    "collapsed": false,
    "pycharm": {
     "name": "#%%\n"
    }
   }
  }
 ],
 "metadata": {
  "kernelspec": {
   "display_name": "Python 3",
   "language": "python",
   "name": "python3"
  },
  "language_info": {
   "codemirror_mode": {
    "name": "ipython",
    "version": 3
   },
   "file_extension": ".py",
   "mimetype": "text/x-python",
   "name": "python",
   "nbconvert_exporter": "python",
   "pygments_lexer": "ipython3",
   "version": "3.6.3"
  }
 },
 "nbformat": 4,
 "nbformat_minor": 1
}